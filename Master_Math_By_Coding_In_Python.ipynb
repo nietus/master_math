{
  "nbformat": 4,
  "nbformat_minor": 0,
  "metadata": {
    "colab": {
      "provenance": [],
      "authorship_tag": "ABX9TyMEBRVPJjnWVEM9MY1hxTKy",
      "include_colab_link": true
    },
    "kernelspec": {
      "name": "python3",
      "display_name": "Python 3"
    },
    "language_info": {
      "name": "python"
    }
  },
  "cells": [
    {
      "cell_type": "markdown",
      "metadata": {
        "id": "view-in-github",
        "colab_type": "text"
      },
      "source": [
        "<a href=\"https://colab.research.google.com/github/nietus/master_math/blob/main/Master_Math_By_Coding_In_Python.ipynb\" target=\"_parent\"><img src=\"https://colab.research.google.com/assets/colab-badge.svg\" alt=\"Open In Colab\"/></a>"
      ]
    },
    {
      "cell_type": "code",
      "execution_count": 4,
      "metadata": {
        "id": "TUv22m1QkhXo",
        "outputId": "9fa2a248-b271-4420-c025-1a5d417098af",
        "colab": {
          "base_uri": "https://localhost:8080/"
        }
      },
      "outputs": [
        {
          "output_type": "stream",
          "name": "stdout",
          "text": [
            "Hello, world!\n"
          ]
        }
      ],
      "source": [
        "print('Hello, world!')\n",
        "#Udemy course: Master math by coding in Python"
      ]
    },
    {
      "cell_type": "code",
      "source": [
        "#getting used to sympy and latex\n",
        "import sympy as sym\n",
        "sym.init_printing() # fancier font\n",
        "from IPython.display import display, Math\n",
        "\n",
        "x,y,z = sym.symbols('x,y,z') # defines x,y,z\n",
        "\n",
        "display(Math((f'{x}^{y}')))\n",
        "\n",
        "formula = x ** y\n",
        "display(formula.subs({x:2,y:4})) # Substitutes values\n",
        "\n",
        "print('', end='\\n')\n",
        "\n",
        "expr = 3/x\n",
        "display(sym.latex(expr)) # raw latex\n",
        "display(Math(sym.latex((sym.sympify(expr).subs(x,1))))) # converting latex to sympy\n",
        "\n",
        "print('')\n",
        "\n",
        "ex = x ** y * x ** z\n",
        "display(Math(f'\\\\text{{Here is the simplification }} : {sym.latex(ex)} \\\\rightarrow {sym.latex(sym.simplify(ex))}'))\n",
        "sym.Eq(4,2+2) # 4 = 2 + 2 - True"
      ],
      "metadata": {
        "colab": {
          "base_uri": "https://localhost:8080/",
          "height": 174
        },
        "id": "6rLk0EXdUdt_",
        "outputId": "9c7a327a-56b7-4e63-8323-21a6df162d08"
      },
      "execution_count": 41,
      "outputs": [
        {
          "output_type": "display_data",
          "data": {
            "text/plain": [
              "<IPython.core.display.Math object>"
            ],
            "text/latex": "$\\displaystyle x^y$"
          },
          "metadata": {}
        },
        {
          "output_type": "display_data",
          "data": {
            "text/plain": [
              "16"
            ],
            "image/png": "[encoded data removed]",
            "text/latex": "$\\displaystyle 16$"
          },
          "metadata": {}
        },
        {
          "output_type": "stream",
          "name": "stdout",
          "text": [
            "\n"
          ]
        },
        {
          "output_type": "display_data",
          "data": {
            "text/plain": [
              "'\\\\frac{3}{x}'"
            ],
            "application/vnd.google.colaboratory.intrinsic+json": {
              "type": "string"
            }
          },
          "metadata": {}
        },
        {
          "output_type": "display_data",
          "data": {
            "text/plain": [
              "<IPython.core.display.Math object>"
            ],
            "text/latex": "$\\displaystyle 3$"
          },
          "metadata": {}
        },
        {
          "output_type": "stream",
          "name": "stdout",
          "text": [
            "\n"
          ]
        },
        {
          "output_type": "display_data",
          "data": {
            "text/plain": [
              "<IPython.core.display.Math object>"
            ],
            "text/latex": "$\\displaystyle \\text{Here is the simplification } : x^{y} x^{z} \\rightarrow x^{y + z}$"
          },
          "metadata": {}
        },
        {
          "output_type": "execute_result",
          "data": {
            "text/plain": [
              "True"
            ],
            "text/latex": "$\\displaystyle \\text{True}$"
          },
          "metadata": {},
          "execution_count": 41
        }
      ]
    },
    {
      "cell_type": "markdown",
      "source": [
        "Markdown code em latex, pode ser usado dentro do IPython\n",
        "$$\\frac{x}{2} × \\pi^{Σ}$$"
      ],
      "metadata": {
        "id": "C-pLQNKRZfyu"
      }
    },
    {
      "cell_type": "code",
      "source": [
        "#solving for x exercise 1\n",
        "import sympy as sym\n",
        "from IPython.display import Math, display\n",
        "sym.init_printing()\n",
        "q = sym.symbols('q')\n",
        "equation = 3*q  +  4/q + 3 - (5*q + 1/q + 1)\n",
        "display(Math(sym.latex(equation.simplify())))\n",
        "display(Math('q =  ' + sym.latex(sym.solve(equation,q))))"
      ],
      "metadata": {
        "id": "fkl0XNA3ycaA",
        "colab": {
          "base_uri": "https://localhost:8080/",
          "height": 105
        },
        "outputId": "b2a331ea-9618-4772-c13a-5b8cf7a85a82"
      },
      "execution_count": null,
      "outputs": [
        {
          "output_type": "display_data",
          "data": {
            "text/plain": [
              "<IPython.core.display.Math object>"
            ],
            "text/latex": "$\\displaystyle - 2 q + 2 + \\frac{3}{q}$"
          },
          "metadata": {}
        },
        {
          "output_type": "display_data",
          "data": {
            "text/plain": [
              "<IPython.core.display.Math object>"
            ],
            "text/latex": "$\\displaystyle q =  \\left[ \\frac{1}{2} - \\frac{\\sqrt{7}}{2}, \\  \\frac{1}{2} + \\frac{\\sqrt{7}}{2}\\right]$"
          },
          "metadata": {}
        }
      ]
    },
    {
      "cell_type": "code",
      "source": [
        "#solving for x exercise 2\n",
        "import sympy as sym\n",
        "from IPython.display import Math, display\n",
        "sym.init_printing()\n",
        "q = sym.symbols('q')\n",
        "eq = 2*q + 3*(q**2) - 5/q - 4/(q**3)\n",
        "display(Math(sym.latex(eq.simplify())))\n",
        "display(Math(sym.latex(eq.cancel())))"
      ],
      "metadata": {
        "colab": {
          "base_uri": "https://localhost:8080/",
          "height": 94
        },
        "id": "11DgzZz-TgfT",
        "outputId": "eaa0281c-b5ef-40dd-ef0d-f3ac2dae7fa5"
      },
      "execution_count": null,
      "outputs": [
        {
          "output_type": "display_data",
          "data": {
            "text/plain": [
              "<IPython.core.display.Math object>"
            ],
            "text/latex": "$\\displaystyle 3 q^{2} + 2 q - \\frac{5}{q} - \\frac{4}{q^{3}}$"
          },
          "metadata": {}
        },
        {
          "output_type": "display_data",
          "data": {
            "text/plain": [
              "<IPython.core.display.Math object>"
            ],
            "text/latex": "$\\displaystyle \\frac{3 q^{5} + 2 q^{4} - 5 q^{2} - 4}{q^{3}}$"
          },
          "metadata": {}
        }
      ]
    },
    {
      "cell_type": "code",
      "source": [
        "#solving for x exercise 3\n",
        "import sympy as sym\n",
        "from IPython.display import display, Math\n",
        "q = sym.symbols('q')\n",
        "eq = (sym.sqrt(3) + sym.sqrt(15) * q) / (sym.sqrt(2) + sym.sqrt(10) * q)\n",
        "display(Math(sym.latex(sym.simplify(eq).evalf())))\n",
        "for i in range(5):\n",
        "  display(Math(sym.latex((eq.subs(q,i).evalf())))) # proof that the equation always has the same result, no matter the value of q"
      ],
      "metadata": {
        "id": "MWAVuoISUu83",
        "colab": {
          "base_uri": "https://localhost:8080/",
          "height": 139
        },
        "outputId": "e77f38b1-5608-425d-84b2-f66adfd81824"
      },
      "execution_count": null,
      "outputs": [
        {
          "output_type": "display_data",
          "data": {
            "text/plain": [
              "<IPython.core.display.Math object>"
            ],
            "text/latex": "$\\displaystyle 1.22474487139159$"
          },
          "metadata": {}
        },
        {
          "output_type": "display_data",
          "data": {
            "text/plain": [
              "<IPython.core.display.Math object>"
            ],
            "text/latex": "$\\displaystyle 1.22474487139159$"
          },
          "metadata": {}
        },
        {
          "output_type": "display_data",
          "data": {
            "text/plain": [
              "<IPython.core.display.Math object>"
            ],
            "text/latex": "$\\displaystyle 1.22474487139159$"
          },
          "metadata": {}
        },
        {
          "output_type": "display_data",
          "data": {
            "text/plain": [
              "<IPython.core.display.Math object>"
            ],
            "text/latex": "$\\displaystyle 1.22474487139159$"
          },
          "metadata": {}
        },
        {
          "output_type": "display_data",
          "data": {
            "text/plain": [
              "<IPython.core.display.Math object>"
            ],
            "text/latex": "$\\displaystyle 1.22474487139159$"
          },
          "metadata": {}
        },
        {
          "output_type": "display_data",
          "data": {
            "text/plain": [
              "<IPython.core.display.Math object>"
            ],
            "text/latex": "$\\displaystyle 1.22474487139159$"
          },
          "metadata": {}
        }
      ]
    },
    {
      "cell_type": "code",
      "source": [
        "#expanding terms exercise\n",
        "import sympy as sym\n",
        "from IPython.display import display,Math\n",
        "from sympy.abc import x,y\n",
        "\n",
        "eq = (4+x) * (2-y)\n",
        "numrange = range(0,3)\n",
        "\n",
        "display(Math(sym.latex(sym.expand(eq))))\n",
        "\n",
        "empty_list = []\n",
        "\n",
        "for i in numrange:\n",
        "  for j in numrange:\n",
        "    display(Math(f'\\\\text{{When x = {i} and y = {j}, f(x,y) is }} {sym.latex(sym.expand(eq.subs({x:i,y:j})))}')) # didn't even needed to be expanded\n",
        "    empty_list.append(eq.subs({x:i,y:j})) # another option\n",
        "\n",
        "print('')\n",
        "\n",
        "print(empty_list)\n",
        "\n",
        "print('')\n",
        "\n",
        "#matrices exercise\n",
        "import numpy as np\n",
        "mat = np.zeros([3,3]) # or len(numrange)\n",
        "for k in numrange:\n",
        "  for l in numrange:\n",
        "    mat[k,l] = eq.subs({x:k,y:l})\n",
        "display(Math(sym.latex(sym.sympify(mat))))"
      ],
      "metadata": {
        "colab": {
          "base_uri": "https://localhost:8080/",
          "height": 334
        },
        "id": "ff4hOsI0PAy1",
        "outputId": "42acd53c-bd0f-4893-e036-8d1e69bdcfbf"
      },
      "execution_count": 43,
      "outputs": [
        {
          "output_type": "display_data",
          "data": {
            "text/plain": [
              "<IPython.core.display.Math object>"
            ],
            "text/latex": "$\\displaystyle - x y + 2 x - 4 y + 8$"
          },
          "metadata": {}
        },
        {
          "output_type": "display_data",
          "data": {
            "text/plain": [
              "<IPython.core.display.Math object>"
            ],
            "text/latex": "$\\displaystyle \\text{When x = 0 and y = 0, f(x,y) is } 8$"
          },
          "metadata": {}
        },
        {
          "output_type": "display_data",
          "data": {
            "text/plain": [
              "<IPython.core.display.Math object>"
            ],
            "text/latex": "$\\displaystyle \\text{When x = 0 and y = 1, f(x,y) is } 4$"
          },
          "metadata": {}
        },
        {
          "output_type": "display_data",
          "data": {
            "text/plain": [
              "<IPython.core.display.Math object>"
            ],
            "text/latex": "$\\displaystyle \\text{When x = 0 and y = 2, f(x,y) is } 0$"
          },
          "metadata": {}
        },
        {
          "output_type": "display_data",
          "data": {
            "text/plain": [
              "<IPython.core.display.Math object>"
            ],
            "text/latex": "$\\displaystyle \\text{When x = 1 and y = 0, f(x,y) is } 10$"
          },
          "metadata": {}
        },
        {
          "output_type": "display_data",
          "data": {
            "text/plain": [
              "<IPython.core.display.Math object>"
            ],
            "text/latex": "$\\displaystyle \\text{When x = 1 and y = 1, f(x,y) is } 5$"
          },
          "metadata": {}
        },
        {
          "output_type": "display_data",
          "data": {
            "text/plain": [
              "<IPython.core.display.Math object>"
            ],
            "text/latex": "$\\displaystyle \\text{When x = 1 and y = 2, f(x,y) is } 0$"
          },
          "metadata": {}
        },
        {
          "output_type": "display_data",
          "data": {
            "text/plain": [
              "<IPython.core.display.Math object>"
            ],
            "text/latex": "$\\displaystyle \\text{When x = 2 and y = 0, f(x,y) is } 12$"
          },
          "metadata": {}
        },
        {
          "output_type": "display_data",
          "data": {
            "text/plain": [
              "<IPython.core.display.Math object>"
            ],
            "text/latex": "$\\displaystyle \\text{When x = 2 and y = 1, f(x,y) is } 6$"
          },
          "metadata": {}
        },
        {
          "output_type": "display_data",
          "data": {
            "text/plain": [
              "<IPython.core.display.Math object>"
            ],
            "text/latex": "$\\displaystyle \\text{When x = 2 and y = 2, f(x,y) is } 0$"
          },
          "metadata": {}
        },
        {
          "output_type": "stream",
          "name": "stdout",
          "text": [
            "\n",
            "[8, 4, 0, 10, 5, 0, 12, 6, 0]\n",
            "\n"
          ]
        },
        {
          "output_type": "display_data",
          "data": {
            "text/plain": [
              "<IPython.core.display.Math object>"
            ],
            "text/latex": "$\\displaystyle \\left[\\begin{matrix}8.0 & 4.0 & 0.0\\\\10.0 & 5.0 & 0.0\\\\12.0 & 6.0 & 0.0\\end{matrix}\\right]$"
          },
          "metadata": {}
        }
      ]
    },
    {
      "cell_type": "code",
      "source": [
        "#matrices exercise 2: multiplication table\n",
        "import sympy as sym\n",
        "import numpy as np\n",
        "from IPython.display import display,Math\n",
        "matrice = range(1,11)\n",
        "mult = np.zeros([len(matrice),len(matrice)], dtype='int')\n",
        "for i in matrice:\n",
        "  for j in matrice:\n",
        "    mult[i-1,j-1] = i*j\n",
        "display(Math(sym.latex(sym.sympify(mult))))"
      ],
      "metadata": {
        "colab": {
          "base_uri": "https://localhost:8080/",
          "height": 220
        },
        "id": "OyI7b9E7fS05",
        "outputId": "b54f1f61-8c59-401d-e30b-f0487580cc27"
      },
      "execution_count": 55,
      "outputs": [
        {
          "output_type": "display_data",
          "data": {
            "text/plain": [
              "<IPython.core.display.Math object>"
            ],
            "text/latex": "$\\displaystyle \\left[\\begin{matrix}1 & 2 & 3 & 4 & 5 & 6 & 7 & 8 & 9 & 10\\\\2 & 4 & 6 & 8 & 10 & 12 & 14 & 16 & 18 & 20\\\\3 & 6 & 9 & 12 & 15 & 18 & 21 & 24 & 27 & 30\\\\4 & 8 & 12 & 16 & 20 & 24 & 28 & 32 & 36 & 40\\\\5 & 10 & 15 & 20 & 25 & 30 & 35 & 40 & 45 & 50\\\\6 & 12 & 18 & 24 & 30 & 36 & 42 & 48 & 54 & 60\\\\7 & 14 & 21 & 28 & 35 & 42 & 49 & 56 & 63 & 70\\\\8 & 16 & 24 & 32 & 40 & 48 & 56 & 64 & 72 & 80\\\\9 & 18 & 27 & 36 & 45 & 54 & 63 & 72 & 81 & 90\\\\10 & 20 & 30 & 40 & 50 & 60 & 70 & 80 & 90 & 100\\end{matrix}\\right]$"
          },
          "metadata": {}
        }
      ]
    }
  ]
}