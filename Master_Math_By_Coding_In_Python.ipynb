{
  "nbformat": 4,
  "nbformat_minor": 0,
  "metadata": {
    "colab": {
      "provenance": [],
      "authorship_tag": "ABX9TyPv8pHNumZ7AzHTDI5ucgdR",
      "include_colab_link": true
    },
    "kernelspec": {
      "name": "python3",
      "display_name": "Python 3"
    },
    "language_info": {
      "name": "python"
    }
  },
  "cells": [
    {
      "cell_type": "markdown",
      "metadata": {
        "id": "view-in-github",
        "colab_type": "text"
      },
      "source": [
        "<a href=\"https://colab.research.google.com/github/nietus/master_math/blob/main/Master_Math_By_Coding_In_Python.ipynb\" target=\"_parent\"><img src=\"https://colab.research.google.com/assets/colab-badge.svg\" alt=\"Open In Colab\"/></a>"
      ]
    },
    {
      "cell_type": "code",
      "execution_count": null,
      "metadata": {
        "id": "TUv22m1QkhXo",
        "outputId": "dde8f420-cd6c-4484-8ff5-f3d8f77dbc9c",
        "colab": {
          "base_uri": "https://localhost:8080/"
        }
      },
      "outputs": [
        {
          "output_type": "stream",
          "name": "stdout",
          "text": [
            "Hello, world!\n"
          ]
        }
      ],
      "source": [
        "print('Hello, world!')\n",
        "#Udemy course: Master math by coding in Python"
      ]
    },
    {
      "cell_type": "code",
      "source": [
        "#getting used to sympy and latex\n",
        "import sympy as sym\n",
        "sym.init_printing() # fancier font\n",
        "from IPython.display import display, Math\n",
        "\n",
        "x,y,z = sym.symbols('x,y,z') # defines x,y,z\n",
        "\n",
        "display(Math((f'{x}^{y}')))\n",
        "\n",
        "formula = x ** y\n",
        "display(formula.subs({x:2,y:4})) # Substitutes values\n",
        "\n",
        "print('', end='\\n')\n",
        "\n",
        "expr = 3/x\n",
        "display(sym.latex(expr)) # raw latex\n",
        "display(Math(sym.latex((sym.sympify(expr).subs(x,1))))) # converting latex to sympy\n",
        "\n",
        "print('')\n",
        "\n",
        "ex = x ** y * x ** z\n",
        "display(Math(f'\\\\text{{Here is the simplification }} : {sym.latex(ex)} \\\\rightarrow {sym.latex(sym.simplify(ex))}'))\n",
        "sym.Eq(4,2+2) # 4 = 2 + 2 - True"
      ],
      "metadata": {
        "colab": {
          "base_uri": "https://localhost:8080/",
          "height": 174
        },
        "id": "6rLk0EXdUdt_",
        "outputId": "9c7a327a-56b7-4e63-8323-21a6df162d08"
      },
      "execution_count": null,
      "outputs": [
        {
          "output_type": "display_data",
          "data": {
            "text/plain": [
              "<IPython.core.display.Math object>"
            ],
            "text/latex": "$\\displaystyle x^y$"
          },
          "metadata": {}
        },
        {
          "output_type": "display_data",
          "data": {
            "text/plain": [
              "16"
            ],
            "image/png": "[encoded data removed]",
            "text/latex": "$\\displaystyle 16$"
          },
          "metadata": {}
        },
        {
          "output_type": "stream",
          "name": "stdout",
          "text": [
            "\n"
          ]
        },
        {
          "output_type": "display_data",
          "data": {
            "text/plain": [
              "'\\\\frac{3}{x}'"
            ],
            "application/vnd.google.colaboratory.intrinsic+json": {
              "type": "string"
            }
          },
          "metadata": {}
        },
        {
          "output_type": "display_data",
          "data": {
            "text/plain": [
              "<IPython.core.display.Math object>"
            ],
            "text/latex": "$\\displaystyle 3$"
          },
          "metadata": {}
        },
        {
          "output_type": "stream",
          "name": "stdout",
          "text": [
            "\n"
          ]
        },
        {
          "output_type": "display_data",
          "data": {
            "text/plain": [
              "<IPython.core.display.Math object>"
            ],
            "text/latex": "$\\displaystyle \\text{Here is the simplification } : x^{y} x^{z} \\rightarrow x^{y + z}$"
          },
          "metadata": {}
        },
        {
          "output_type": "execute_result",
          "data": {
            "text/plain": [
              "True"
            ],
            "text/latex": "$\\displaystyle \\text{True}$"
          },
          "metadata": {},
          "execution_count": 41
        }
      ]
    },
    {
      "cell_type": "markdown",
      "source": [
        "Markdown code em latex, pode ser usado dentro do IPython\n",
        "$$\\frac{x}{2} × \\pi^{Σ}$$"
      ],
      "metadata": {
        "id": "C-pLQNKRZfyu"
      }
    },
    {
      "cell_type": "code",
      "source": [
        "#solving for x exercise 1\n",
        "import sympy as sym\n",
        "from IPython.display import Math, display\n",
        "sym.init_printing()\n",
        "q = sym.symbols('q')\n",
        "equation = 3*q  +  4/q + 3 - (5*q + 1/q + 1)\n",
        "display(Math(sym.latex(equation.simplify())))\n",
        "display(Math('q =  ' + sym.latex(sym.solve(equation,q))))"
      ],
      "metadata": {
        "id": "fkl0XNA3ycaA",
        "colab": {
          "base_uri": "https://localhost:8080/",
          "height": 105
        },
        "outputId": "b2a331ea-9618-4772-c13a-5b8cf7a85a82"
      },
      "execution_count": null,
      "outputs": [
        {
          "output_type": "display_data",
          "data": {
            "text/plain": [
              "<IPython.core.display.Math object>"
            ],
            "text/latex": "$\\displaystyle - 2 q + 2 + \\frac{3}{q}$"
          },
          "metadata": {}
        },
        {
          "output_type": "display_data",
          "data": {
            "text/plain": [
              "<IPython.core.display.Math object>"
            ],
            "text/latex": "$\\displaystyle q =  \\left[ \\frac{1}{2} - \\frac{\\sqrt{7}}{2}, \\  \\frac{1}{2} + \\frac{\\sqrt{7}}{2}\\right]$"
          },
          "metadata": {}
        }
      ]
    },
    {
      "cell_type": "code",
      "source": [
        "#solving for x exercise 2\n",
        "import sympy as sym\n",
        "from IPython.display import Math, display\n",
        "sym.init_printing()\n",
        "q = sym.symbols('q')\n",
        "eq = 2*q + 3*(q**2) - 5/q - 4/(q**3)\n",
        "display(Math(sym.latex(eq.simplify())))\n",
        "display(Math(sym.latex(eq.cancel())))"
      ],
      "metadata": {
        "colab": {
          "base_uri": "https://localhost:8080/",
          "height": 94
        },
        "id": "11DgzZz-TgfT",
        "outputId": "eaa0281c-b5ef-40dd-ef0d-f3ac2dae7fa5"
      },
      "execution_count": null,
      "outputs": [
        {
          "output_type": "display_data",
          "data": {
            "text/plain": [
              "<IPython.core.display.Math object>"
            ],
            "text/latex": "$\\displaystyle 3 q^{2} + 2 q - \\frac{5}{q} - \\frac{4}{q^{3}}$"
          },
          "metadata": {}
        },
        {
          "output_type": "display_data",
          "data": {
            "text/plain": [
              "<IPython.core.display.Math object>"
            ],
            "text/latex": "$\\displaystyle \\frac{3 q^{5} + 2 q^{4} - 5 q^{2} - 4}{q^{3}}$"
          },
          "metadata": {}
        }
      ]
    },
    {
      "cell_type": "code",
      "source": [
        "#solving for x exercise 3\n",
        "import sympy as sym\n",
        "from IPython.display import display, Math\n",
        "q = sym.symbols('q')\n",
        "eq = (sym.sqrt(3) + sym.sqrt(15) * q) / (sym.sqrt(2) + sym.sqrt(10) * q)\n",
        "display(Math(sym.latex(sym.simplify(eq).evalf())))\n",
        "for i in range(5):\n",
        "  display(Math(sym.latex((eq.subs(q,i).evalf())))) # proof that the equation always has the same result, no matter the value of q"
      ],
      "metadata": {
        "id": "MWAVuoISUu83",
        "colab": {
          "base_uri": "https://localhost:8080/",
          "height": 139
        },
        "outputId": "e6c1bb15-3693-46a7-ba75-921a7345ec64"
      },
      "execution_count": null,
      "outputs": [
        {
          "output_type": "display_data",
          "data": {
            "text/plain": [
              "<IPython.core.display.Math object>"
            ],
            "text/latex": "$\\displaystyle 1.22474487139159$"
          },
          "metadata": {}
        },
        {
          "output_type": "display_data",
          "data": {
            "text/plain": [
              "<IPython.core.display.Math object>"
            ],
            "text/latex": "$\\displaystyle 1.22474487139159$"
          },
          "metadata": {}
        },
        {
          "output_type": "display_data",
          "data": {
            "text/plain": [
              "<IPython.core.display.Math object>"
            ],
            "text/latex": "$\\displaystyle 1.22474487139159$"
          },
          "metadata": {}
        },
        {
          "output_type": "display_data",
          "data": {
            "text/plain": [
              "<IPython.core.display.Math object>"
            ],
            "text/latex": "$\\displaystyle 1.22474487139159$"
          },
          "metadata": {}
        },
        {
          "output_type": "display_data",
          "data": {
            "text/plain": [
              "<IPython.core.display.Math object>"
            ],
            "text/latex": "$\\displaystyle 1.22474487139159$"
          },
          "metadata": {}
        },
        {
          "output_type": "display_data",
          "data": {
            "text/plain": [
              "<IPython.core.display.Math object>"
            ],
            "text/latex": "$\\displaystyle 1.22474487139159$"
          },
          "metadata": {}
        }
      ]
    },
    {
      "cell_type": "code",
      "source": [
        "#expanding terms exercise\n",
        "import sympy as sym\n",
        "from IPython.display import display,Math\n",
        "from sympy.abc import x,y\n",
        "\n",
        "eq = (4+x) * (2-y)\n",
        "numrange = range(0,3)\n",
        "\n",
        "display(Math(sym.latex(sym.expand(eq))))\n",
        "\n",
        "empty_list = []\n",
        "\n",
        "for i in numrange:\n",
        "  for j in numrange:\n",
        "    display(Math(f'\\\\text{{When x = {i} and y = {j}, f(x,y) is }} {sym.latex(sym.expand(eq.subs({x:i,y:j})))}')) # didn't even needed to be expanded\n",
        "    empty_list.append(eq.subs({x:i,y:j})) # another option\n",
        "\n",
        "print('')\n",
        "\n",
        "print(empty_list)\n",
        "\n",
        "print('')\n",
        "\n",
        "#matrices exercise\n",
        "import numpy as np\n",
        "mat = np.zeros([3,3]) # or len(numrange)\n",
        "for k in numrange:\n",
        "  for l in numrange:\n",
        "    mat[k,l] = eq.subs({x:k,y:l})\n",
        "display(Math(sym.latex(sym.sympify(mat))))"
      ],
      "metadata": {
        "colab": {
          "base_uri": "https://localhost:8080/",
          "height": 334
        },
        "id": "ff4hOsI0PAy1",
        "outputId": "42acd53c-bd0f-4893-e036-8d1e69bdcfbf"
      },
      "execution_count": null,
      "outputs": [
        {
          "output_type": "display_data",
          "data": {
            "text/plain": [
              "<IPython.core.display.Math object>"
            ],
            "text/latex": "$\\displaystyle - x y + 2 x - 4 y + 8$"
          },
          "metadata": {}
        },
        {
          "output_type": "display_data",
          "data": {
            "text/plain": [
              "<IPython.core.display.Math object>"
            ],
            "text/latex": "$\\displaystyle \\text{When x = 0 and y = 0, f(x,y) is } 8$"
          },
          "metadata": {}
        },
        {
          "output_type": "display_data",
          "data": {
            "text/plain": [
              "<IPython.core.display.Math object>"
            ],
            "text/latex": "$\\displaystyle \\text{When x = 0 and y = 1, f(x,y) is } 4$"
          },
          "metadata": {}
        },
        {
          "output_type": "display_data",
          "data": {
            "text/plain": [
              "<IPython.core.display.Math object>"
            ],
            "text/latex": "$\\displaystyle \\text{When x = 0 and y = 2, f(x,y) is } 0$"
          },
          "metadata": {}
        },
        {
          "output_type": "display_data",
          "data": {
            "text/plain": [
              "<IPython.core.display.Math object>"
            ],
            "text/latex": "$\\displaystyle \\text{When x = 1 and y = 0, f(x,y) is } 10$"
          },
          "metadata": {}
        },
        {
          "output_type": "display_data",
          "data": {
            "text/plain": [
              "<IPython.core.display.Math object>"
            ],
            "text/latex": "$\\displaystyle \\text{When x = 1 and y = 1, f(x,y) is } 5$"
          },
          "metadata": {}
        },
        {
          "output_type": "display_data",
          "data": {
            "text/plain": [
              "<IPython.core.display.Math object>"
            ],
            "text/latex": "$\\displaystyle \\text{When x = 1 and y = 2, f(x,y) is } 0$"
          },
          "metadata": {}
        },
        {
          "output_type": "display_data",
          "data": {
            "text/plain": [
              "<IPython.core.display.Math object>"
            ],
            "text/latex": "$\\displaystyle \\text{When x = 2 and y = 0, f(x,y) is } 12$"
          },
          "metadata": {}
        },
        {
          "output_type": "display_data",
          "data": {
            "text/plain": [
              "<IPython.core.display.Math object>"
            ],
            "text/latex": "$\\displaystyle \\text{When x = 2 and y = 1, f(x,y) is } 6$"
          },
          "metadata": {}
        },
        {
          "output_type": "display_data",
          "data": {
            "text/plain": [
              "<IPython.core.display.Math object>"
            ],
            "text/latex": "$\\displaystyle \\text{When x = 2 and y = 2, f(x,y) is } 0$"
          },
          "metadata": {}
        },
        {
          "output_type": "stream",
          "name": "stdout",
          "text": [
            "\n",
            "[8, 4, 0, 10, 5, 0, 12, 6, 0]\n",
            "\n"
          ]
        },
        {
          "output_type": "display_data",
          "data": {
            "text/plain": [
              "<IPython.core.display.Math object>"
            ],
            "text/latex": "$\\displaystyle \\left[\\begin{matrix}8.0 & 4.0 & 0.0\\\\10.0 & 5.0 & 0.0\\\\12.0 & 6.0 & 0.0\\end{matrix}\\right]$"
          },
          "metadata": {}
        }
      ]
    },
    {
      "cell_type": "code",
      "source": [
        "#matrices exercise 2: multiplication table\n",
        "import sympy as sym\n",
        "import numpy as np\n",
        "from IPython.display import display,Math\n",
        "matrice = range(1,11)\n",
        "mult = np.zeros([len(matrice),len(matrice)], dtype='int')\n",
        "for i in matrice:\n",
        "  for j in matrice:\n",
        "    mult[i-1,j-1] = i*j\n",
        "display(Math(sym.latex(sym.sympify(mult))))"
      ],
      "metadata": {
        "colab": {
          "base_uri": "https://localhost:8080/",
          "height": 220
        },
        "id": "OyI7b9E7fS05",
        "outputId": "689750d0-b6f4-4ded-ba79-539ca11444f7"
      },
      "execution_count": null,
      "outputs": [
        {
          "output_type": "display_data",
          "data": {
            "text/plain": [
              "<IPython.core.display.Math object>"
            ],
            "text/latex": "$\\displaystyle \\left[\\begin{matrix}1 & 2 & 3 & 4 & 5 & 6 & 7 & 8 & 9 & 10\\\\2 & 4 & 6 & 8 & 10 & 12 & 14 & 16 & 18 & 20\\\\3 & 6 & 9 & 12 & 15 & 18 & 21 & 24 & 27 & 30\\\\4 & 8 & 12 & 16 & 20 & 24 & 28 & 32 & 36 & 40\\\\5 & 10 & 15 & 20 & 25 & 30 & 35 & 40 & 45 & 50\\\\6 & 12 & 18 & 24 & 30 & 36 & 42 & 48 & 54 & 60\\\\7 & 14 & 21 & 28 & 35 & 42 & 49 & 56 & 63 & 70\\\\8 & 16 & 24 & 32 & 40 & 48 & 56 & 64 & 72 & 80\\\\9 & 18 & 27 & 36 & 45 & 54 & 63 & 72 & 81 & 90\\\\10 & 20 & 30 & 40 & 50 & 60 & 70 & 80 & 90 & 100\\end{matrix}\\right]$"
          },
          "metadata": {}
        }
      ]
    },
    {
      "cell_type": "code",
      "source": [
        "#lists exercise\n",
        "import sympy as sym\n",
        "from IPython.display import display,Math\n",
        "x = sym.symbols('x')\n",
        "eqlist = [2*x+x*(4-6*x)+x, # eq1\n",
        "          x*((2/x)+(4/(x**2))) + (4+x)/4*x, # eq2\n",
        "          (x+3)*(x-3)*x*(1/(9*x))] # eq3\n",
        "for equations in eqlist:\n",
        "  display(Math(f'{sym.latex(equations)} \\\\rightarrow {sym.latex(sym.expand(equations))}'))"
      ],
      "metadata": {
        "colab": {
          "base_uri": "https://localhost:8080/",
          "height": 117
        },
        "id": "jTqhlKcKrPIF",
        "outputId": "c93d1485-63d2-4ccb-8acc-fec4e16953d6"
      },
      "execution_count": null,
      "outputs": [
        {
          "output_type": "display_data",
          "data": {
            "text/plain": [
              "<IPython.core.display.Math object>"
            ],
            "text/latex": "$\\displaystyle x \\left(4 - 6 x\\right) + 3 x \\rightarrow - 6 x^{2} + 7 x$"
          },
          "metadata": {}
        },
        {
          "output_type": "display_data",
          "data": {
            "text/plain": [
              "<IPython.core.display.Math object>"
            ],
            "text/latex": "$\\displaystyle x \\left(\\frac{2}{x} + \\frac{4}{x^{2}}\\right) + x \\left(\\frac{x}{4} + 1\\right) \\rightarrow \\frac{x^{2}}{4} + x + 2 + \\frac{4}{x}$"
          },
          "metadata": {}
        },
        {
          "output_type": "display_data",
          "data": {
            "text/plain": [
              "<IPython.core.display.Math object>"
            ],
            "text/latex": "$\\displaystyle \\frac{\\left(x - 3\\right) \\left(x + 3\\right)}{9} \\rightarrow \\frac{x^{2}}{9} - 1$"
          },
          "metadata": {}
        }
      ]
    },
    {
      "cell_type": "code",
      "source": [
        "vec = list(range(11,21))\n",
        "print(vec[0::2]) # Counts from 0 to the end jumping from 2 to 2\n",
        "print(vec[-1]) # -1 goes to the end of the list\n",
        "print(vec[::-1]) # reversed list"
      ],
      "metadata": {
        "colab": {
          "base_uri": "https://localhost:8080/"
        },
        "id": "hY1PVajLjHSS",
        "outputId": "88eedc0a-0f1e-4521-e91c-798f03c6045e"
      },
      "execution_count": null,
      "outputs": [
        {
          "output_type": "stream",
          "name": "stdout",
          "text": [
            "[11, 13, 15, 17, 19]\n",
            "20\n",
            "[20, 19, 18, 17, 16, 15, 14, 13, 12, 11]\n"
          ]
        }
      ]
    },
    {
      "cell_type": "code",
      "source": [
        "# gcd exercise 1\n",
        "import sympy as sym\n",
        "from IPython.display import display, Math\n",
        "x,y,z = sym.symbols('x,y,z')\n",
        "eq1 = sym.gcd(z*x,z*y)\n",
        "eq2 = z * sym.gcd(x,y)\n",
        "sym.Eq(eq1,eq2) # shows the property of the greatest common denominator is true"
      ],
      "metadata": {
        "colab": {
          "base_uri": "https://localhost:8080/",
          "height": 37
        },
        "id": "bRPm6xpskihu",
        "outputId": "bacabc12-86bb-44d1-f639-cd0021811af1"
      },
      "execution_count": null,
      "outputs": [
        {
          "output_type": "execute_result",
          "data": {
            "text/plain": [
              "True"
            ],
            "text/latex": "$\\displaystyle \\text{True}$"
          },
          "metadata": {},
          "execution_count": 24
        }
      ]
    },
    {
      "cell_type": "code",
      "source": [
        "# gcd exercise 2\n",
        "import math\n",
        "import sympy as sym\n",
        "import numpy as np\n",
        "from IPython.display import display, Math\n",
        "gcdMat = np.zeros([10,15])+99\n",
        "for i in range(0,10):\n",
        "  for j in range(0,15):\n",
        "    gcdMat[i,j] = math.gcd(i+1,j+1)\n",
        "gcdMat"
      ],
      "metadata": {
        "colab": {
          "base_uri": "https://localhost:8080/"
        },
        "id": "l0lKj9hEvhrV",
        "outputId": "9bb2819d-b6b8-493a-81bc-359403cc6a71"
      },
      "execution_count": null,
      "outputs": [
        {
          "output_type": "execute_result",
          "data": {
            "text/plain": [
              "array([[ 1.,  1.,  1.,  1.,  1.,  1.,  1.,  1.,  1.,  1.,  1.,  1.,  1.,\n",
              "         1.,  1.],\n",
              "       [ 1.,  2.,  1.,  2.,  1.,  2.,  1.,  2.,  1.,  2.,  1.,  2.,  1.,\n",
              "         2.,  1.],\n",
              "       [ 1.,  1.,  3.,  1.,  1.,  3.,  1.,  1.,  3.,  1.,  1.,  3.,  1.,\n",
              "         1.,  3.],\n",
              "       [ 1.,  2.,  1.,  4.,  1.,  2.,  1.,  4.,  1.,  2.,  1.,  4.,  1.,\n",
              "         2.,  1.],\n",
              "       [ 1.,  1.,  1.,  1.,  5.,  1.,  1.,  1.,  1.,  5.,  1.,  1.,  1.,\n",
              "         1.,  5.],\n",
              "       [ 1.,  2.,  3.,  2.,  1.,  6.,  1.,  2.,  3.,  2.,  1.,  6.,  1.,\n",
              "         2.,  3.],\n",
              "       [ 1.,  1.,  1.,  1.,  1.,  1.,  7.,  1.,  1.,  1.,  1.,  1.,  1.,\n",
              "         7.,  1.],\n",
              "       [ 1.,  2.,  1.,  4.,  1.,  2.,  1.,  8.,  1.,  2.,  1.,  4.,  1.,\n",
              "         2.,  1.],\n",
              "       [ 1.,  1.,  3.,  1.,  1.,  3.,  1.,  1.,  9.,  1.,  1.,  3.,  1.,\n",
              "         1.,  3.],\n",
              "       [ 1.,  2.,  1.,  2.,  5.,  2.,  1.,  2.,  1., 10.,  1.,  2.,  1.,\n",
              "         2.,  5.]])"
            ]
          },
          "metadata": {},
          "execution_count": 51
        }
      ]
    },
    {
      "cell_type": "code",
      "source": [
        "#dict exercise\n",
        "from sympy.abc import x,y\n",
        "import sympy as sym\n",
        "from IPython.display import display,Math\n",
        "D = dict(eqx=[4*x-6,x**2-9], eqy=[sym.sin(y)])\n",
        "for i in D:\n",
        "  print(f'For equations involving {i[-1]}')\n",
        "  for j in D[i]:\n",
        "    display(Math(sym.latex(j) + ' = 0 \\\\rightarrow' + sym.latex(sym.solve(j))))"
      ],
      "metadata": {
        "id": "nDdEjYCa2mQm",
        "colab": {
          "base_uri": "https://localhost:8080/",
          "height": 135
        },
        "outputId": "05bf623d-1097-4eb1-ab09-3bd104a80b6e"
      },
      "execution_count": null,
      "outputs": [
        {
          "output_type": "stream",
          "name": "stdout",
          "text": [
            "For equations involving x\n"
          ]
        },
        {
          "output_type": "display_data",
          "data": {
            "text/plain": [
              "<IPython.core.display.Math object>"
            ],
            "text/latex": "$\\displaystyle 4 x - 6 = 0 \\rightarrow\\left[ \\frac{3}{2}\\right]$"
          },
          "metadata": {}
        },
        {
          "output_type": "display_data",
          "data": {
            "text/plain": [
              "<IPython.core.display.Math object>"
            ],
            "text/latex": "$\\displaystyle x^{2} - 9 = 0 \\rightarrow\\left[ -3, \\  3\\right]$"
          },
          "metadata": {}
        },
        {
          "output_type": "stream",
          "name": "stdout",
          "text": [
            "For equations involving y\n"
          ]
        },
        {
          "output_type": "display_data",
          "data": {
            "text/plain": [
              "<IPython.core.display.Math object>"
            ],
            "text/latex": "$\\displaystyle \\sin{\\left(y \\right)} = 0 \\rightarrow\\left[ 0, \\  \\pi\\right]$"
          },
          "metadata": {}
        }
      ]
    },
    {
      "cell_type": "code",
      "source": [
        "#prime factor exercise\n",
        "import sympy as sym\n",
        "for i in range(2,21):\n",
        "  holder = dict(sym.factorint(i))\n",
        "  #print(sym.factorint(i))\n",
        "  if i not in holder.keys():\n",
        "    print(f'{i} is not a prime, with prime factors {list(holder.keys())}')\n",
        "  if i in holder.keys():\n",
        "    print(f'{i} is a prime')"
      ],
      "metadata": {
        "colab": {
          "base_uri": "https://localhost:8080/"
        },
        "id": "P6xBPuLUbelz",
        "outputId": "bb9b1a68-d6b9-4db1-99bb-d57d2a44e31d"
      },
      "execution_count": null,
      "outputs": [
        {
          "output_type": "stream",
          "name": "stdout",
          "text": [
            "2 is a prime\n",
            "3 is a prime\n",
            "4 is not a prime, with prime factors [2]\n",
            "5 is a prime\n",
            "6 is not a prime, with prime factors [2, 3]\n",
            "7 is a prime\n",
            "8 is not a prime, with prime factors [2]\n",
            "9 is not a prime, with prime factors [3]\n",
            "10 is not a prime, with prime factors [2, 5]\n",
            "11 is a prime\n",
            "12 is not a prime, with prime factors [2, 3]\n",
            "13 is a prime\n",
            "14 is not a prime, with prime factors [2, 7]\n",
            "15 is not a prime, with prime factors [3, 5]\n",
            "16 is not a prime, with prime factors [2]\n",
            "17 is a prime\n",
            "18 is not a prime, with prime factors [2, 3]\n",
            "19 is a prime\n",
            "20 is not a prime, with prime factors [2, 5]\n"
          ]
        }
      ]
    },
    {
      "cell_type": "code",
      "source": [
        "#inequalities exercise\n",
        "from sympy.abc import x\n",
        "import sympy as sym\n",
        "from IPython.display import display,Math\n",
        "\n",
        "eq = 3*x/2 + (4-5*x)/3 <= 2-(5*(2-x))/4\n",
        "\n",
        "display(Math(sym.latex(eq) + '\\\\quad \\\\rightarrow \\\\quad' + sym.latex(sym.solve(eq,x))))"
      ],
      "metadata": {
        "id": "LL_bTH6nhaX7",
        "colab": {
          "base_uri": "https://localhost:8080/",
          "height": 51
        },
        "outputId": "6de30d26-d50a-4630-c328-90493e58cc76"
      },
      "execution_count": null,
      "outputs": [
        {
          "output_type": "display_data",
          "data": {
            "text/plain": [
              "<IPython.core.display.Math object>"
            ],
            "text/latex": "$\\displaystyle \\frac{4}{3} - \\frac{x}{6} \\leq \\frac{5 x}{4} - \\frac{1}{2}\\quad \\rightarrow \\quad\\frac{22}{17} \\leq x \\wedge x < \\infty$"
          },
          "metadata": {}
        }
      ]
    },
    {
      "cell_type": "code",
      "source": [
        "#polynomials exercise\n",
        "import sympy as sym\n",
        "from IPython.display import display,Math\n",
        "x = sym.symbols('x')\n",
        "polys = [sym.Poly(x**2+2*x),sym.Poly(-x**3+4*x),sym.Poly(x**5-x**4+x/(4+4))]\n",
        "for i in polys:\n",
        "  if i.degree()%2==0:\n",
        "    print(f'The degree of {i.as_expr()} is even, and the coefficients sum to {sum(i.coeffs())}')\n",
        "  else:\n",
        "    print(f'The degree of {i.as_expr()} is odd, and there are {len(i.coeffs())} coefficients')"
      ],
      "metadata": {
        "colab": {
          "base_uri": "https://localhost:8080/"
        },
        "id": "rZOz4_wWEESa",
        "outputId": "a342da84-7bc3-4c72-b5e8-95aa4c07f26e"
      },
      "execution_count": null,
      "outputs": [
        {
          "output_type": "stream",
          "name": "stdout",
          "text": [
            "The degree of x**2 + 2*x is even, and the coefficients sum to 3\n",
            "The degree of -x**3 + 4*x is odd, and there are 2 coefficients\n",
            "The degree of x**5 - x**4 + x/8 is odd, and there are 3 coefficients\n"
          ]
        }
      ]
    },
    {
      "cell_type": "code",
      "source": [
        "#polynomials exercise 2\n",
        "import sympy as sym\n",
        "from IPython.display import display,Math\n",
        "x,y = sym.symbols('x,y')\n",
        "poli1 = 4*x**4 - 3*x**2 + x*y**2 - 9*y**3\n",
        "poli2 = -x**3 + 6*x**2*y + .8*y**3\n",
        "mult = poli1*poli2\n",
        "display(Math(sym.latex(mult)))\n",
        "print(mult.subs({x:5,y:-2}))\n",
        "print(poli1.subs({x:5,y:-2})*poli2.subs({x:5,y:-2}))"
      ],
      "metadata": {
        "colab": {
          "base_uri": "https://localhost:8080/",
          "height": 73
        },
        "id": "uEB6RgzUep1u",
        "outputId": "692c9db0-45a9-4575-8264-036500b272ce"
      },
      "execution_count": null,
      "outputs": [
        {
          "output_type": "display_data",
          "data": {
            "text/plain": [
              "<IPython.core.display.Math object>"
            ],
            "text/latex": "$\\displaystyle \\left(- x^{3} + 6 x^{2} y + 0.8 y^{3}\\right) \\left(4 x^{4} - 3 x^{2} + x y^{2} - 9 y^{3}\\right)$"
          },
          "metadata": {}
        },
        {
          "output_type": "stream",
          "name": "stdout",
          "text": [
            "-1085833.80000000\n",
            "-1085833.80000000\n"
          ]
        }
      ]
    },
    {
      "cell_type": "code",
      "source": [
        "#polynomials exercise 3\n",
        "import sympy as sym\n",
        "from IPython.display import display,Math\n",
        "x,y=sym.symbols('x,y')\n",
        "eq = (x**6 + 2*x**4 + 6*x - y) / (x**3 + 3)\n",
        "for i in range(5,16):\n",
        "  temp = eq.subs(y,i)\n",
        "  if sym.fraction(sym.simplify(temp))[1]==1:\n",
        "    rightanswer = i\n",
        "    display(Math(sym.latex((sym.fraction(sym.simplify(temp))))))\n",
        "print(rightanswer)"
      ],
      "metadata": {
        "colab": {
          "base_uri": "https://localhost:8080/",
          "height": 56
        },
        "id": "gfgxJ_E3iIxc",
        "outputId": "129e6b90-fda3-4cba-e974-93e0f107e6f5"
      },
      "execution_count": null,
      "outputs": [
        {
          "output_type": "display_data",
          "data": {
            "text/plain": [
              "<IPython.core.display.Math object>"
            ],
            "text/latex": "$\\displaystyle \\left( x^{3} + 2 x - 3, \\  1\\right)$"
          },
          "metadata": {}
        },
        {
          "output_type": "stream",
          "name": "stdout",
          "text": [
            "9\n"
          ]
        }
      ]
    },
    {
      "cell_type": "code",
      "source": [
        "#polynomials exercise 3\n",
        "import sympy as sym\n",
        "from IPython.display import display,Math\n",
        "from sympy.abc import x,y\n",
        "eqs = [x**2+4*x+3,2*y**2-1,3*y**2+12*y]\n",
        "for i in eqs:\n",
        "  if sym.factor(i) == i:\n",
        "    display(Math(f'{{{sym.latex(i)}}} \\\\rightarrow \\\\text{{cannot be factored}}'))\n",
        "  else:\n",
        "    display(Math(f'{{{sym.latex(i)}}} \\\\rightarrow {sym.latex(sym.factor(i))}'))"
      ],
      "metadata": {
        "colab": {
          "base_uri": "https://localhost:8080/",
          "height": 81
        },
        "id": "tFz_3U3HQPer",
        "outputId": "1c10f1e4-3e34-4820-8c78-2098351180fe"
      },
      "execution_count": null,
      "outputs": [
        {
          "output_type": "display_data",
          "data": {
            "text/plain": [
              "<IPython.core.display.Math object>"
            ],
            "text/latex": "$\\displaystyle {x^{2} + 4 x + 3} \\rightarrow \\left(x + 1\\right) \\left(x + 3\\right)$"
          },
          "metadata": {}
        },
        {
          "output_type": "display_data",
          "data": {
            "text/plain": [
              "<IPython.core.display.Math object>"
            ],
            "text/latex": "$\\displaystyle {2 y^{2} - 1} \\rightarrow \\text{cannot be factored}$"
          },
          "metadata": {}
        },
        {
          "output_type": "display_data",
          "data": {
            "text/plain": [
              "<IPython.core.display.Math object>"
            ],
            "text/latex": "$\\displaystyle {3 y^{2} + 12 y} \\rightarrow 3 y \\left(y + 4\\right)$"
          },
          "metadata": {}
        }
      ]
    },
    {
      "cell_type": "code",
      "source": [
        "#Plotting coordinates on a plane exercise\n",
        "import sympy as sym\n",
        "import matplotlib.pyplot as plt\n",
        "from sympy.abc import x\n",
        "y = x**2-3*x\n",
        "for i in range(-10,12):\n",
        "  plt.plot(i,y.subs(x,i),'o')\n",
        "plt.grid()\n",
        "plt.xlabel('x')\n",
        "plt.ylabel(y)\n",
        "plt.show()"
      ],
      "metadata": {
        "colab": {
          "base_uri": "https://localhost:8080/",
          "height": 279
        },
        "id": "58qoQNyhxDf8",
        "outputId": "3c61267a-ee17-4c2d-dad5-1457522fefa3"
      },
      "execution_count": null,
      "outputs": [
        {
          "output_type": "display_data",
          "data": {
            "text/plain": [
              "<Figure size 432x288 with 1 Axes>"
            ],
            "image/png": "[encoded data removed]"
          },
          "metadata": {
            "needs_background": "light"
          }
        }
      ]
    },
    {
      "cell_type": "code",
      "source": [
        "#graphing lines exercise\n",
        "import sympy as sym\n",
        "import matplotlib.pyplot as plt\n",
        "import numpy as np\n",
        "from sympy.abc import x\n",
        "y = sym.sqrt(np.abs(x))\n",
        "for i in range(-20,21):\n",
        "  #plt.plot(i,y.subs(x,i),'o')\n",
        "  plt.plot([0,i],[0,y.subs(x,i)])\n",
        "plt.title('redbull')\n",
        "plt.show()"
      ],
      "metadata": {
        "id": "KVmcLtS2IGbm",
        "colab": {
          "base_uri": "https://localhost:8080/",
          "height": 281
        },
        "outputId": "5cb14f55-2fe9-461a-bca0-84b342f5450c"
      },
      "execution_count": null,
      "outputs": [
        {
          "output_type": "display_data",
          "data": {
            "text/plain": [
              "<Figure size 432x288 with 1 Axes>"
            ],
            "image/png": "[encoded data removed]"
          },
          "metadata": {
            "needs_background": "light"
          }
        }
      ]
    },
    {
      "cell_type": "code",
      "source": [
        "#graphing lines exercise part 2\n",
        "import sympy as sym\n",
        "import matplotlib.pyplot as plt\n",
        "import numpy as np\n",
        "plt.plot([1,2],[2,2],'r')\n",
        "plt.plot([1,1],[1,2],'k')\n",
        "plt.plot([1,2],[1,1],'g')\n",
        "plt.plot([2,2],[1,2],'b')\n",
        "plt.axis([-3,5,-3,5])\n",
        "plt.title(\"Dip web's rubik cube\")\n",
        "plt.show()"
      ],
      "metadata": {
        "colab": {
          "base_uri": "https://localhost:8080/",
          "height": 281
        },
        "id": "FINZFUn6mByd",
        "outputId": "be7684cc-04e0-43cc-e7aa-f1bc2e6868f6"
      },
      "execution_count": null,
      "outputs": [
        {
          "output_type": "display_data",
          "data": {
            "text/plain": [
              "<Figure size 432x288 with 1 Axes>"
            ],
            "image/png": "[encoded data removed]"
          },
          "metadata": {
            "needs_background": "light"
          }
        }
      ]
    },
    {
      "cell_type": "code",
      "source": [
        "#more graph exercises\n",
        "import matplotlib.pyplot as plt\n",
        "#y = ax + b\n",
        "x = [-5,5]\n",
        "a = float(input('Valeu for a: '))\n",
        "b = float(input('Valeu for b: '))\n",
        "c = float(input('Valeu for a2: '))\n",
        "d = float(input('Valeu for b2: '))\n",
        "y = [1,1] # starting y\n",
        "z = [1,1] # starting z\n",
        "for i in range(0,len(x)):\n",
        "  y[i] = a*x[i]+b\n",
        "  z[i] = c*x[i]+d\n",
        "plt.plot(x,y,label=f'y = {a}x + {b}')\n",
        "plt.plot(x,z,'g',label=f'y = {c}x + {d}')\n",
        "plt.axis('square')\n",
        "plt.grid()\n",
        "plt.xlim(x)\n",
        "plt.ylim(x)\n",
        "\n",
        "axis = plt.gca()\n",
        "plt.plot([-5,5],[0,0],'k--')\n",
        "plt.plot([0,0],[-5,5],'k--')\n",
        "\n",
        "plt.legend()\n",
        "plt.show()"
      ],
      "metadata": {
        "colab": {
          "base_uri": "https://localhost:8080/",
          "height": 334
        },
        "id": "VHk80_LeqZP5",
        "outputId": "567d93dd-8fe5-4e25-92be-d6c6527b38e7"
      },
      "execution_count": null,
      "outputs": [
        {
          "name": "stdout",
          "output_type": "stream",
          "text": [
            "Valeu for a: .7\n",
            "Valeu for b: -2\n",
            "Valeu for a2: -1.25\n",
            "Valeu for b2: .75\n"
          ]
        },
        {
          "output_type": "display_data",
          "data": {
            "text/plain": [
              "<Figure size 432x288 with 1 Axes>"
            ],
            "image/png": "[encoded data removed]"
          },
          "metadata": {
            "needs_background": "light"
          }
        }
      ]
    },
    {
      "cell_type": "code",
      "source": [
        "import numpy as np\n",
        "import matplotlib.pyplot as plt\n",
        "x = np.linspace(-4,4,150)\n",
        "for i in range(-1,4):\n",
        "  y = x**i\n",
        "  plt.plot(x,y,label=f'$y=x^{i}$',linewidth=3)\n",
        "\n",
        "plt.xlim([x[0],x[-1]])\n",
        "plt.ylim(-20,20)\n",
        "plt.legend()\n",
        "plt.show()"
      ],
      "metadata": {
        "id": "kAh6ttkpwENb",
        "colab": {
          "base_uri": "https://localhost:8080/",
          "height": 269
        },
        "outputId": "62f9a258-fb60-40a9-aa1f-519c6b3fc436"
      },
      "execution_count": null,
      "outputs": [
        {
          "output_type": "display_data",
          "data": {
            "text/plain": [
              "<Figure size 432x288 with 1 Axes>"
            ],
            "image/png": "[encoded data removed]"
          },
          "metadata": {
            "needs_background": "light"
          }
        }
      ]
    },
    {
      "cell_type": "code",
      "source": [
        "import sympy as sym\n",
        "import sympy.plotting.plot as symplot\n",
        "from sympy.abc import x\n",
        "\n",
        "y = x ** 2\n",
        "p = symplot(y,show=False)\n",
        "p.xlim = [-20,20]\n",
        "p.ylim = [-1,10]\n",
        "p[0].line_color = 'm'\n",
        "p.title = ':3'\n",
        "\n",
        "p.show()"
      ],
      "metadata": {
        "colab": {
          "base_uri": "https://localhost:8080/",
          "height": 295
        },
        "id": "LF1SQnO4NaUC",
        "outputId": "4717075d-1d30-40f4-8e4b-aa2c0b111465"
      },
      "execution_count": null,
      "outputs": [
        {
          "output_type": "display_data",
          "data": {
            "text/plain": [
              "<Figure size 432x288 with 1 Axes>"
            ],
            "image/png": "[encoded data removed]"
          },
          "metadata": {
            "needs_background": "light"
          }
        }
      ]
    },
    {
      "cell_type": "code",
      "source": [
        "import sympy as sym\n",
        "import numpy as np\n",
        "import sympy.plotting.plot as symplot\n",
        "from sympy.abc import x,a\n",
        "y = a / (x**2-a)\n",
        "p = symplot(y.subs(a,1),(x,-5,5),show=False)\n",
        "for i in range(1,5):\n",
        "  p.extend(symplot(y.subs(a,i),show=False))\n",
        "  p[i].label = f'${sym.latex(y.subs(a,i))}$'\n",
        "  p[i].line_color = list(np.random.rand(3))\n",
        "p.xlim = [-4,4]\n",
        "p.ylim = [-10,10]\n",
        "#p.legend = True\n",
        "p.show()"
      ],
      "metadata": {
        "colab": {
          "base_uri": "https://localhost:8080/",
          "height": 297
        },
        "id": "7hQtL4QLZfyP",
        "outputId": "a62bdf92-35e7-4179-8c65-29f932e213a8"
      },
      "execution_count": null,
      "outputs": [
        {
          "output_type": "display_data",
          "data": {
            "text/plain": [
              "<Figure size 432x288 with 1 Axes>"
            ],
            "image/png": "[encoded data removed]"
          },
          "metadata": {
            "needs_background": "light"
          }
        }
      ]
    },
    {
      "cell_type": "code",
      "source": [
        "import numpy as np\n",
        "import matplotlib.pyplot as plt\n",
        "a = np.zeros((10,20))\n",
        "for i in range(0,np.shape(a)[0]):\n",
        "  for j in range(0,np.shape(a)[1]):\n",
        "    a[i,j] = 3*i - 4*j\n",
        "    plt.text(j,i,int(a[i,j]), horizontalalignment='center', verticalalignment='center')\n",
        "plt.imshow(a)\n",
        "plt.show()"
      ],
      "metadata": {
        "colab": {
          "base_uri": "https://localhost:8080/",
          "height": 215
        },
        "id": "BK5wuAfxRoYe",
        "outputId": "66c89c70-8390-4f37-8a66-494ae1a838d9"
      },
      "execution_count": 14,
      "outputs": [
        {
          "output_type": "display_data",
          "data": {
            "text/plain": [
              "<Figure size 432x288 with 1 Axes>"
            ],
            "image/png": "[encoded data removed]"
          },
          "metadata": {
            "needs_background": "light"
          }
        }
      ]
    },
    {
      "cell_type": "code",
      "source": [
        "#img from matrices exercise\n",
        "import numpy as np\n",
        "import matplotlib.pyplot as plt\n",
        "\n",
        "b = np.zeros((10,10))\n",
        "for i in range(0,np.shape(b)[0]):\n",
        "  for j in range(0,np.shape(b)[1]):\n",
        "    a[i,j] = (-1)**(i+j)\n",
        "plt.imshow(a)\n",
        "plt.set_cmap('gray')\n",
        "plt.tick_params(labelleft=False,labelbottom=False)\n",
        "plt.show()"
      ],
      "metadata": {
        "colab": {
          "base_uri": "https://localhost:8080/",
          "height": 252
        },
        "id": "_cD1MJ2laili",
        "outputId": "13a57a04-cbc8-41ae-b342-954e294626cf"
      },
      "execution_count": 23,
      "outputs": [
        {
          "output_type": "display_data",
          "data": {
            "text/plain": [
              "<Figure size 432x288 with 1 Axes>"
            ],
            "image/png": "[encoded data removed]"
          },
          "metadata": {}
        }
      ]
    }
  ]
}